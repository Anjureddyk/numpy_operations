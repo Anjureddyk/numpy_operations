{
 "cells": [
  {
   "cell_type": "markdown",
   "id": "668229b9",
   "metadata": {},
   "source": [
    "# Numpy"
   ]
  },
  {
   "cell_type": "markdown",
   "id": "ef3ba12d",
   "metadata": {},
   "source": [
    "###### NumPy is a powerful Python library that stands for \"Numerical Python.\" It provides support for large, multi-dimensional arrays and matrices, along with a collection of mathematical functions to operate on these arrays efficiently. NumPy is widely used in scientific computing, data analysis, and machine learning applications."
   ]
  },
  {
   "cell_type": "code",
   "execution_count": 1,
   "id": "1a56b35e",
   "metadata": {},
   "outputs": [],
   "source": [
    "import numpy as np"
   ]
  },
  {
   "cell_type": "markdown",
   "id": "e08ded23",
   "metadata": {},
   "source": [
    "#### Creating a NumPy array from a Python list:"
   ]
  },
  {
   "cell_type": "code",
   "execution_count": 2,
   "id": "40e4d67e",
   "metadata": {},
   "outputs": [
    {
     "data": {
      "text/plain": [
       "array([1, 2, 3, 4, 5, 6])"
      ]
     },
     "execution_count": 2,
     "metadata": {},
     "output_type": "execute_result"
    }
   ],
   "source": [
    "arr = np.array([1, 2, 3, 4, 5,6])\n",
    "arr"
   ]
  },
  {
   "cell_type": "markdown",
   "id": "e18058d5",
   "metadata": {},
   "source": [
    "#### Creating a 2D NumPy array:"
   ]
  },
  {
   "cell_type": "code",
   "execution_count": 3,
   "id": "f47f04fb",
   "metadata": {},
   "outputs": [
    {
     "data": {
      "text/plain": [
       "array([[1, 2, 3],\n",
       "       [4, 5, 6]])"
      ]
     },
     "execution_count": 3,
     "metadata": {},
     "output_type": "execute_result"
    }
   ],
   "source": [
    "arr_2d = np.array([[1, 2, 3], [4, 5, 6]])\n",
    "arr_2d"
   ]
  },
  {
   "cell_type": "markdown",
   "id": "e9d727b5",
   "metadata": {},
   "source": [
    "#### Accessing the shape of a NumPy array:"
   ]
  },
  {
   "cell_type": "code",
   "execution_count": 4,
   "id": "8016368f",
   "metadata": {},
   "outputs": [
    {
     "data": {
      "text/plain": [
       "(2, 3)"
      ]
     },
     "execution_count": 4,
     "metadata": {},
     "output_type": "execute_result"
    }
   ],
   "source": [
    "shape = arr_2d.shape\n",
    "shape"
   ]
  },
  {
   "cell_type": "markdown",
   "id": "6b475976",
   "metadata": {},
   "source": [
    "#### Accessing the dimensions of a NumPy array:"
   ]
  },
  {
   "cell_type": "code",
   "execution_count": 5,
   "id": "c4c1f9f4",
   "metadata": {},
   "outputs": [
    {
     "data": {
      "text/plain": [
       "2"
      ]
     },
     "execution_count": 5,
     "metadata": {},
     "output_type": "execute_result"
    }
   ],
   "source": [
    "dimensions = arr_2d.ndim\n",
    "dimensions"
   ]
  },
  {
   "cell_type": "markdown",
   "id": "4c32e006",
   "metadata": {},
   "source": [
    "#### Accessing the number of elements in a NumPy array:"
   ]
  },
  {
   "cell_type": "code",
   "execution_count": 6,
   "id": "72682cae",
   "metadata": {},
   "outputs": [
    {
     "data": {
      "text/plain": [
       "6"
      ]
     },
     "execution_count": 6,
     "metadata": {},
     "output_type": "execute_result"
    }
   ],
   "source": [
    "num_elements = arr_2d.size\n",
    "num_elements"
   ]
  },
  {
   "cell_type": "markdown",
   "id": "8b56f661",
   "metadata": {},
   "source": [
    "#### Reshaping a NumPy array:"
   ]
  },
  {
   "cell_type": "code",
   "execution_count": 7,
   "id": "ae4f5720",
   "metadata": {},
   "outputs": [
    {
     "data": {
      "text/plain": [
       "array([[1, 2, 3],\n",
       "       [4, 5, 6]])"
      ]
     },
     "execution_count": 7,
     "metadata": {},
     "output_type": "execute_result"
    }
   ],
   "source": [
    "reshaped_arr = arr.reshape((2, 3))\n",
    "reshaped_arr"
   ]
  },
  {
   "cell_type": "markdown",
   "id": "bf89a9bf",
   "metadata": {},
   "source": [
    "#### Accessing specific elements in a NumPy array:"
   ]
  },
  {
   "cell_type": "code",
   "execution_count": 8,
   "id": "4fe7b892",
   "metadata": {},
   "outputs": [
    {
     "data": {
      "text/plain": [
       "1"
      ]
     },
     "execution_count": 8,
     "metadata": {},
     "output_type": "execute_result"
    }
   ],
   "source": [
    "element = arr[0]  # Access first element\n",
    "element"
   ]
  },
  {
   "cell_type": "markdown",
   "id": "76576e22",
   "metadata": {},
   "source": [
    "#### Slicing a NumPy array:"
   ]
  },
  {
   "cell_type": "code",
   "execution_count": 9,
   "id": "1f632b46",
   "metadata": {},
   "outputs": [
    {
     "data": {
      "text/plain": [
       "array([2, 3, 4])"
      ]
     },
     "execution_count": 9,
     "metadata": {},
     "output_type": "execute_result"
    }
   ],
   "source": [
    "slic = arr[1:4]  # Access elements from index 1 to 3\n",
    "slic"
   ]
  },
  {
   "cell_type": "markdown",
   "id": "88352862",
   "metadata": {},
   "source": [
    "#### Finding the maximum element in a NumPy array:"
   ]
  },
  {
   "cell_type": "code",
   "execution_count": 10,
   "id": "95847c1a",
   "metadata": {},
   "outputs": [
    {
     "data": {
      "text/plain": [
       "6"
      ]
     },
     "execution_count": 10,
     "metadata": {},
     "output_type": "execute_result"
    }
   ],
   "source": [
    "max_value = arr.max()\n",
    "max_value"
   ]
  },
  {
   "cell_type": "markdown",
   "id": "f7531a35",
   "metadata": {},
   "source": [
    "#### Finding the minimum element in a NumPy array:"
   ]
  },
  {
   "cell_type": "code",
   "execution_count": 11,
   "id": "e42176ce",
   "metadata": {},
   "outputs": [
    {
     "data": {
      "text/plain": [
       "1"
      ]
     },
     "execution_count": 11,
     "metadata": {},
     "output_type": "execute_result"
    }
   ],
   "source": [
    "min_value = arr.min()\n",
    "min_value"
   ]
  },
  {
   "cell_type": "markdown",
   "id": "247a8497",
   "metadata": {},
   "source": [
    "#### Finding the sum of all elements in a NumPy array:"
   ]
  },
  {
   "cell_type": "code",
   "execution_count": 13,
   "id": "4ac9248c",
   "metadata": {},
   "outputs": [
    {
     "data": {
      "text/plain": [
       "21"
      ]
     },
     "execution_count": 13,
     "metadata": {},
     "output_type": "execute_result"
    }
   ],
   "source": [
    "sum_value = arr.sum()\n",
    "sum_value"
   ]
  },
  {
   "cell_type": "markdown",
   "id": "17dd6bf8",
   "metadata": {},
   "source": [
    "#### Finding the mean of elements in a NumPy array:"
   ]
  },
  {
   "cell_type": "code",
   "execution_count": 14,
   "id": "0693c86f",
   "metadata": {},
   "outputs": [
    {
     "data": {
      "text/plain": [
       "3.5"
      ]
     },
     "execution_count": 14,
     "metadata": {},
     "output_type": "execute_result"
    }
   ],
   "source": [
    "mean_value = arr.mean()\n",
    "mean_value"
   ]
  },
  {
   "cell_type": "markdown",
   "id": "8797d00f",
   "metadata": {},
   "source": [
    "#### Finding the standard deviation of elements in a NumPy array:"
   ]
  },
  {
   "cell_type": "code",
   "execution_count": 15,
   "id": "4c55f8f7",
   "metadata": {},
   "outputs": [
    {
     "data": {
      "text/plain": [
       "1.707825127659933"
      ]
     },
     "execution_count": 15,
     "metadata": {},
     "output_type": "execute_result"
    }
   ],
   "source": [
    "std_dev = arr.std()\n",
    "std_dev"
   ]
  },
  {
   "cell_type": "markdown",
   "id": "1ecfa877",
   "metadata": {},
   "source": [
    "#### Transposing a NumPy array:"
   ]
  },
  {
   "cell_type": "code",
   "execution_count": 16,
   "id": "acb0bf3d",
   "metadata": {},
   "outputs": [
    {
     "data": {
      "text/plain": [
       "array([[1, 4],\n",
       "       [2, 5],\n",
       "       [3, 6]])"
      ]
     },
     "execution_count": 16,
     "metadata": {},
     "output_type": "execute_result"
    }
   ],
   "source": [
    "transposed_arr = arr_2d.T\n",
    "transposed_arr"
   ]
  },
  {
   "cell_type": "markdown",
   "id": "1685a177",
   "metadata": {},
   "source": [
    "#### Performing element-wise addition of two NumPy arrays:"
   ]
  },
  {
   "cell_type": "code",
   "execution_count": 18,
   "id": "0d8ac792",
   "metadata": {},
   "outputs": [
    {
     "data": {
      "text/plain": [
       "array([ 7,  9, 11, 13, 15])"
      ]
     },
     "execution_count": 18,
     "metadata": {},
     "output_type": "execute_result"
    }
   ],
   "source": [
    "arr_1 = np.array([1,2,3,4,5])\n",
    "arr_2 = np.array([6,7,8,9,10])\n",
    "\n",
    "sum_arr = arr_1 + arr_2\n",
    "sum_arr"
   ]
  },
  {
   "cell_type": "markdown",
   "id": "52c32a4b",
   "metadata": {},
   "source": [
    "#### Performing element-wise multiplication of two NumPy arrays:"
   ]
  },
  {
   "cell_type": "code",
   "execution_count": 19,
   "id": "d10c1f13",
   "metadata": {},
   "outputs": [
    {
     "data": {
      "text/plain": [
       "array([ 6, 14, 24, 36, 50])"
      ]
     },
     "execution_count": 19,
     "metadata": {},
     "output_type": "execute_result"
    }
   ],
   "source": [
    "mult_arr = arr_1 * arr_2\n",
    "mult_arr"
   ]
  },
  {
   "cell_type": "markdown",
   "id": "0b80f1c2",
   "metadata": {},
   "source": [
    "#### Performing matrix multiplication using NumPy arrays:"
   ]
  },
  {
   "cell_type": "code",
   "execution_count": 20,
   "id": "1862d278",
   "metadata": {},
   "outputs": [
    {
     "data": {
      "text/plain": [
       "130"
      ]
     },
     "execution_count": 20,
     "metadata": {},
     "output_type": "execute_result"
    }
   ],
   "source": [
    "mat_mult = np.matmul(arr_1, arr_2)\n",
    "mat_mult"
   ]
  },
  {
   "cell_type": "markdown",
   "id": "d13f0e4d",
   "metadata": {},
   "source": [
    "#### Finding the index of the maximum element in a NumPy array:"
   ]
  },
  {
   "cell_type": "code",
   "execution_count": 21,
   "id": "5fecab15",
   "metadata": {},
   "outputs": [
    {
     "data": {
      "text/plain": [
       "5"
      ]
     },
     "execution_count": 21,
     "metadata": {},
     "output_type": "execute_result"
    }
   ],
   "source": [
    "max_index = arr.argmax()\n",
    "max_index"
   ]
  },
  {
   "cell_type": "markdown",
   "id": "2184ec37",
   "metadata": {},
   "source": [
    "#### Finding the index of the minimum element in a NumPy array:"
   ]
  },
  {
   "cell_type": "code",
   "execution_count": 22,
   "id": "bfc7a938",
   "metadata": {},
   "outputs": [
    {
     "data": {
      "text/plain": [
       "0"
      ]
     },
     "execution_count": 22,
     "metadata": {},
     "output_type": "execute_result"
    }
   ],
   "source": [
    "min_index = arr.argmin()\n",
    "min_index"
   ]
  },
  {
   "cell_type": "markdown",
   "id": "c80ee4f7",
   "metadata": {},
   "source": [
    "#### Creating an array of evenly spaced values within a range:"
   ]
  },
  {
   "cell_type": "code",
   "execution_count": 24,
   "id": "febe6092",
   "metadata": {},
   "outputs": [
    {
     "data": {
      "text/plain": [
       "array([1, 3, 5, 7, 9])"
      ]
     },
     "execution_count": 24,
     "metadata": {},
     "output_type": "execute_result"
    }
   ],
   "source": [
    "start = 1\n",
    "stop = 10\n",
    "step = 2\n",
    "\n",
    "range_arr = np.arange(start, stop, step)\n",
    "range_arr"
   ]
  },
  {
   "cell_type": "markdown",
   "id": "8f99799a",
   "metadata": {},
   "source": [
    "#### Creating an array of evenly spaced values within a specified interval: "
   ]
  },
  {
   "cell_type": "code",
   "execution_count": 26,
   "id": "e6658214",
   "metadata": {},
   "outputs": [
    {
     "data": {
      "text/plain": [
       "array([ 1., 10.])"
      ]
     },
     "execution_count": 26,
     "metadata": {},
     "output_type": "execute_result"
    }
   ],
   "source": [
    "num = 2\n",
    "\n",
    "linspace_arr = np.linspace(start, stop, num)\n",
    "linspace_arr"
   ]
  }
 ],
 "metadata": {
  "kernelspec": {
   "display_name": "Python 3 (ipykernel)",
   "language": "python",
   "name": "python3"
  },
  "language_info": {
   "codemirror_mode": {
    "name": "ipython",
    "version": 3
   },
   "file_extension": ".py",
   "mimetype": "text/x-python",
   "name": "python",
   "nbconvert_exporter": "python",
   "pygments_lexer": "ipython3",
   "version": "3.10.9"
  }
 },
 "nbformat": 4,
 "nbformat_minor": 5
}
